{
 "cells": [
  {
   "cell_type": "code",
   "execution_count": null,
   "metadata": {},
   "outputs": [],
   "source": [
    "import numpy as np\n",
    "import pylab as plt\n",
    "import svgwrite\n",
    "from skimage import io, filters, measure, feature, exposure\n",
    "from scipy import ndimage, spatial\n",
    "from scipy.ndimage import rotate\n",
    "import os\n",
    "import random\n",
    "from IPython.display import SVG\n",
    "%matplotlib inline"
   ]
  },
  {
   "cell_type": "code",
   "execution_count": null,
   "metadata": {},
   "outputs": [],
   "source": [
    "ao_monkey = io.imread('TestMonkey/AO.png')\n",
    "uv_monkey = io.imread('TestMonkey/UV.png')\n",
    "normal_monkey = io.imread('TestMonkey/Normal.png')\n",
    "original_monkey = io.imread('TestMonkey/Original.png')\n",
    "\n",
    "fig=plt.figure(figsize=(20, 20))\n",
    "\n",
    "fig.add_subplot(2, 2, 1)\n",
    "plt.imshow(ao_monkey)\n",
    "fig.add_subplot(2, 2, 2)\n",
    "plt.imshow(uv_monkey)\n",
    "fig.add_subplot(2, 2, 3)\n",
    "plt.imshow(normal_monkey)\n",
    "fig.add_subplot(2, 2, 4)\n",
    "plt.imshow(original_monkey)\n",
    "fig.tight_layout()"
   ]
  },
  {
   "cell_type": "code",
   "execution_count": null,
   "metadata": {},
   "outputs": [],
   "source": [
    "edge_monkey = filters.sobel(ao_monkey[:,:,0])\n",
    "coords = feature.corner_peaks(feature.corner_fast(edge_monkey), min_distance=5)\n",
    "print(coords)\n",
    "plt.figure()\n",
    "plt.plot(coords[:,1],coords[:,0],\"ro\")\n",
    "plt.imshow(edge_monkey)"
   ]
  },
  {
   "cell_type": "code",
   "execution_count": null,
   "metadata": {},
   "outputs": [],
   "source": [
    "def center_angle(p1, p2):\n",
    "    x_difference = p2[1]-p1[1]\n",
    "    y_difference = p2[0]-p1[0]\n",
    "    return np.rad2deg(np.arctan2(y_difference, x_difference))"
   ]
  },
  {
   "cell_type": "code",
   "execution_count": null,
   "metadata": {},
   "outputs": [],
   "source": [
    "mean_x = np.mean(coords[1,:])\n",
    "mean_y = np.mean(coords[0,:])\n",
    "mean_point = [mean_y, mean_x]\n",
    "\n",
    "start = coords[np.where(spatial.distance.cdist([[0, 0]], coords).max())]\n",
    "angles = []\n",
    "for i in coords:\n",
    "    angles.append(center_angle(i, mean_point))\n",
    "\n",
    "angles = np.asarray(angles)\n",
    "coords = coords[angles.argsort()]\n",
    "print(start, coords)\n",
    "plt.figure()\n",
    "plt.plot(coords[:,1],coords[:,0],)\n",
    "plt.imshow(edge_monkey)"
   ]
  },
  {
   "cell_type": "code",
   "execution_count": null,
   "metadata": {},
   "outputs": [],
   "source": [
    "dwg = svgwrite.Drawing('stroke.svg')\n",
    "\n",
    "for i in range(0,10):\n",
    "    genid = chr(i+48)\n",
    "    gradline = dwg.linearGradient((0, 0), (1, 0), id=genid)\n",
    "    gradline.add_stop_color(1, 'white', 0)\n",
    "    gradline.add_stop_color(round(random.uniform(0.85, 0.95), 2), 'black')\n",
    "\n",
    "    dwg.defs.add(gradline)\n",
    "    \n",
    "    start_x = random.randint(10, 100)\n",
    "    start_y = random.randint(10, 100)\n",
    "    \n",
    "    dwg.add(dwg.line((start_x, start_y),\n",
    "                     (start_x + random.randint(25, 100), start_y + random.randint(25, 100)),\n",
    "                     stroke=\"url(#\" + genid + \")\",\n",
    "                     stroke_linecap=\"round\"))\n",
    "\n",
    "display(SVG(dwg.tostring().replace('><','>\\n<')))\n",
    "\n",
    "dwg.save()"
   ]
  },
  {
   "cell_type": "code",
   "execution_count": null,
   "metadata": {},
   "outputs": [],
   "source": []
  }
 ],
 "metadata": {
  "kernelspec": {
   "display_name": "Python 3",
   "language": "python",
   "name": "python3"
  },
  "language_info": {
   "codemirror_mode": {
    "name": "ipython",
    "version": 3
   },
   "file_extension": ".py",
   "mimetype": "text/x-python",
   "name": "python",
   "nbconvert_exporter": "python",
   "pygments_lexer": "ipython3",
   "version": "3.6.5"
  }
 },
 "nbformat": 4,
 "nbformat_minor": 2
}

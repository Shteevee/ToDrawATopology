{
 "cells": [
  {
   "cell_type": "code",
   "execution_count": null,
   "metadata": {},
   "outputs": [],
   "source": [
    "import numpy as np\n",
    "import pylab as plt\n",
    "import svgwrite\n",
    "from skimage import io, filters, measure, feature, exposure, morphology\n",
    "from scipy import ndimage, spatial\n",
    "from scipy.ndimage import rotate\n",
    "import os\n",
    "import random\n",
    "from IPython.display import SVG\n",
    "%matplotlib inline"
   ]
  },
  {
   "cell_type": "code",
   "execution_count": null,
   "metadata": {},
   "outputs": [],
   "source": [
    "ao_monkey = io.imread('TestMonkey/AO.png')\n",
    "uv_monkey = io.imread('TestMonkey/UV.png')\n",
    "normal_monkey = io.imread('TestMonkey/Normal.png')\n",
    "original_monkey = io.imread('TestMonkey/Original.png')\n",
    "\n",
    "fig=plt.figure(figsize=(20, 20))\n",
    "\n",
    "fig.add_subplot(2, 2, 1)\n",
    "plt.imshow(ao_monkey)\n",
    "fig.add_subplot(2, 2, 2)\n",
    "plt.imshow(uv_monkey)\n",
    "fig.add_subplot(2, 2, 3)\n",
    "plt.imshow(normal_monkey)\n",
    "fig.add_subplot(2, 2, 4)\n",
    "plt.imshow(original_monkey)\n",
    "fig.tight_layout()"
   ]
  },
  {
   "cell_type": "code",
   "execution_count": null,
   "metadata": {},
   "outputs": [],
   "source": [
    "edge_monkey = filters.sobel(ao_monkey[:,:,0])\n",
    "coords = feature.corner_peaks(feature.corner_fast(edge_monkey), min_distance=5)\n",
    "print(coords)\n",
    "plt.figure()\n",
    "plt.plot(coords[:,1],coords[:,0],\"ro\")\n",
    "plt.imshow(edge_monkey)"
   ]
  },
  {
   "cell_type": "code",
   "execution_count": null,
   "metadata": {},
   "outputs": [],
   "source": [
    "def center_angle(p1, p2):\n",
    "    x_difference = p2[1]-p1[1]\n",
    "    y_difference = p2[0]-p1[0]\n",
    "    return np.rad2deg(np.arctan2(y_difference, x_difference))"
   ]
  },
  {
   "cell_type": "code",
   "execution_count": null,
   "metadata": {},
   "outputs": [],
   "source": [
    "mean_x = np.mean(coords[1,:])\n",
    "mean_y = np.mean(coords[0,:])\n",
    "mean_point = [mean_y, mean_x]\n",
    "\n",
    "start = coords[np.where(spatial.distance.cdist([[0, 0]], coords).max())]\n",
    "angles = []\n",
    "for i in coords:\n",
    "    angles.append(center_angle(i, mean_point))\n",
    "\n",
    "angles = np.asarray(angles)\n",
    "coords = coords[angles.argsort()]\n",
    "print(start, coords)\n",
    "plt.figure()\n",
    "plt.plot(coords[:,1],coords[:,0],)\n",
    "plt.imshow(edge_monkey)"
   ]
  },
  {
   "cell_type": "code",
   "execution_count": null,
   "metadata": {},
   "outputs": [],
   "source": [
    "dwg = svgwrite.Drawing('stroke.svg')\n",
    "\n",
    "dwg.add(dwg.rect(insert=(0, 0), size=('100%', '100%'), rx=None, ry=None, fill='white'))\n",
    "\n",
    "for i in range(0,10):\n",
    "    genid = chr(i+48)\n",
    "    gradline = dwg.linearGradient((0, 0), (1, 0), id=genid)\n",
    "    gradline.add_stop_color(1, 'white', 0)\n",
    "    gradline.add_stop_color(round(random.uniform(0.85, 0.95), 2), 'black')\n",
    "\n",
    "    dwg.defs.add(gradline)\n",
    "    \n",
    "    start_x = random.randint(10, 100)\n",
    "    start_y = random.randint(10, 100)\n",
    "    \n",
    "    dwg.add(dwg.line((start_x, start_y),\n",
    "                     (start_x + random.randint(25, 100), start_y + random.randint(25, 100)),\n",
    "                     stroke=\"url(#\" + genid + \")\",\n",
    "                     stroke_linecap=\"round\"))\n",
    "\n",
    "display(SVG(dwg.tostring().replace('><','>\\n<')))\n",
    "\n",
    "dwg.save()"
   ]
  },
  {
   "cell_type": "code",
   "execution_count": null,
   "metadata": {},
   "outputs": [],
   "source": [
    "def sketch(points, name):\n",
    "    precision = 5\n",
    "    dwg = svgwrite.Drawing(name)\n",
    "    \n",
    "    dwg.add(dwg.rect(insert=(0, 0), size=('100%', '100%'), rx=None, ry=None, fill='white'))\n",
    "    \n",
    "    gradline = dwg.linearGradient((0, 0), (1, 0), id=\"grad\")\n",
    "    #gradline.add_stop_color(1, 'white', 0.1)\n",
    "    gradline.add_stop_color(1, 'black')\n",
    "    \n",
    "    dwg.defs.add(gradline)\n",
    "    \n",
    "    for i in range(1, len(points)):\n",
    "        dwg.add(dwg.line((round(points[i-1][0], precision),(round(points[i-1][1], precision))),\n",
    "                         ((round(points[i][0], precision), (round(points[i][1], precision)))),\n",
    "                         stroke=\"url(#grad)\",\n",
    "                         stroke_linecap=\"round\"))\n",
    "\n",
    "    display(SVG(dwg.tostring().replace('><','>\\n<')))\n",
    "\n",
    "    return dwg"
   ]
  },
  {
   "cell_type": "code",
   "execution_count": null,
   "metadata": {},
   "outputs": [],
   "source": [
    "edge_monkey = filters.sobel(ao_monkey[:,:,0] + normal_monkey[:,:,0])\n",
    "new_edge_monkey =np.flip(np.rot90(edge_monkey), axis=0)\n",
    "contours = measure.find_contours(new_edge_monkey, 0.17, fully_connected=\"high\")\n",
    "simplified_contours = [measure.approximate_polygon(c, tolerance=0) for c in contours]\n",
    "svg = sketch(simplified_contours[0], 'sketch.svg')\n",
    "svg.save()"
   ]
  },
  {
   "cell_type": "code",
   "execution_count": null,
   "metadata": {},
   "outputs": [],
   "source": [
    "def path_sketches(points):\n",
    "    precision = 5\n",
    "    dwg = svgwrite.Drawing('path1.svg')\n",
    "\n",
    "    gradline = dwg.linearGradient((0, 0), (1, 0), id=\"grad\")\n",
    "    gradline.add_stop_color(1, 'white', 0.8)\n",
    "    gradline.add_stop_color(0.9, 'black')\n",
    "    \n",
    "    dwg.defs.add(gradline)\n",
    "    \n",
    "    path = dwg.path(('M', points[0][0,0], points[0][0,1]), fill='black', stroke='black')\n",
    "    for pointSet in points:\n",
    "        path.push('M', pointSet[0,0], pointSet[0,1])\n",
    "        for p in pointSet[1:]:\n",
    "            path.push(('L', p[0], p[1]))\n",
    "    \n",
    "    dwg.add(path)\n",
    "    \n",
    "    return dwg"
   ]
  },
  {
   "cell_type": "code",
   "execution_count": null,
   "metadata": {},
   "outputs": [],
   "source": [
    "path_out = path_sketches(simplified_contours)\n",
    "path_out.save()"
   ]
  },
  {
   "cell_type": "code",
   "execution_count": null,
   "metadata": {},
   "outputs": [],
   "source": [
    "def angle(p1):\n",
    "    ang = np.arctan2(p1[0], p1[1])\n",
    "    return np.rad2deg((ang) % (2 * np.pi))"
   ]
  },
  {
   "cell_type": "code",
   "execution_count": null,
   "metadata": {},
   "outputs": [],
   "source": [
    "def path_sketch(points, corners=[]):\n",
    "    corners[:,[0,1]] = corners[:,[1,0]]\n",
    "    dwg = svgwrite.Drawing('path1.svg')\n",
    "    \n",
    "    dwg.add(dwg.rect(insert=(0, 0), size=('100%', '100%'), rx=None, ry=None, fill='white'))\n",
    "\n",
    "    gradline = dwg.linearGradient((0, 0), (0, 0), id=\"grad\")\n",
    "    gradline.add_stop_color(0.1, 'white')\n",
    "    gradline.add_stop_color(1, 'black')\n",
    "    \n",
    "    dwg.defs.add(gradline)\n",
    "    \n",
    "    path = dwg.path(('M', points[0,0], points[0,1]), fill='none', stroke='black')\n",
    "    for i in range(1, len(points)):\n",
    "        path.push(('L', points[i,0], points[i,1]))\n",
    "        print(points[i-1], points[i])\n",
    "        if points[i] in corners:\n",
    "            dwg.add(dwg.line((points[i,0],points[i,1]),\n",
    "                             (points[i,0]+(points[i,0]-points[i-1,0])*2.5, points[i,1]+(points[i,1]-points[i-1,1])*2.5),\n",
    "                             stroke='black',\n",
    "                             stroke_width=round(random.uniform(0.6, 0.85), 2),\n",
    "                             stroke_linecap='round'))\n",
    "            \n",
    "            dwg.add(dwg.line((points[i,0],points[i,1]),\n",
    "                             (points[i,0]+(points[i,0]-points[i+1,0])*2.5, points[i,1]+(points[i,1]-points[i+1,1])*2.5),\n",
    "                             stroke='black',\n",
    "                             stroke_width=round(random.uniform(0.6, 0.85), 2),\n",
    "                             stroke_linecap='round'))\n",
    "    \n",
    "    dwg.add(path)\n",
    "    \n",
    "    return dwg"
   ]
  },
  {
   "cell_type": "code",
   "execution_count": null,
   "metadata": {},
   "outputs": [],
   "source": [
    "path_out = path_sketch(simplified_contours[0], feature.corner_peaks(feature.corner_fast(edge_monkey), min_distance=20))\n",
    "path_out.save()"
   ]
  },
  {
   "cell_type": "code",
   "execution_count": null,
   "metadata": {},
   "outputs": [],
   "source": [
    "edge_monkey = filters.sobel(normal_monkey[:,:,0]) + filters.sobel(ao_monkey[:,:,0])\n",
    "bin_edge_monkey = np.where(edge_monkey<0.1, 0, 1)\n",
    "plt.figure(figsize=(20,20))\n",
    "plt.imshow(ndimage.gaussian_filter(bin_edge_monkey, sigma=0.12), cmap = plt.cm.Greys)"
   ]
  },
  {
   "cell_type": "code",
   "execution_count": null,
   "metadata": {},
   "outputs": [],
   "source": [
    "def momentum_sketch(points):\n",
    "    velocity = 0.1\n",
    "    dwg = svgwrite.Drawing('momentum.svg')\n",
    "    \n",
    "    dwg.add(dwg.rect(insert=(0, 0), size=('100%', '100%'), rx=None, ry=None, fill='white'))\n",
    "\n",
    "    gradline = dwg.linearGradient((0, 0), (0, 0), id=\"grad\")\n",
    "    gradline.add_stop_color(0.1, 'white')\n",
    "    gradline.add_stop_color(1, 'black')\n",
    "    \n",
    "    dwg.defs.add(gradline)\n",
    "    \n",
    "    path = dwg.path(('M', points[0,0], points[0,1]), fill='none', stroke='black', stroke_linecap='round')\n",
    "    for i in range(1, len(points)):\n",
    "        velocity = 0.1\n",
    "        currentPos = np.copy(points[i-1])\n",
    "        print(currentPos)\n",
    "        \n",
    "        angle = np.rad2deg(np.arctan2([points[i-1][1], points[i][1]], [points[i-1][0], points[i][0]]))\n",
    "        print(angle)\n",
    "        while lessThan(points[i-1], currentPos, points[i]):\n",
    "            currentPos = [currentPos[0]+( velocity*np.cos(angle[0]) ), currentPos[1]+( velocity*np.sin(angle[1]) )]\n",
    "            print(currentPos)\n",
    "            path.push(('L', currentPos[0], currentPos[1]))\n",
    "            velocity = velocity + 0.2\n",
    "            \n",
    "        path.push(('M', points[i][0], points[i][1]))\n",
    "        \n",
    "    dwg.add(path)\n",
    "        \n",
    "    return dwg\n",
    "\n",
    "def lessThan(startPos, currentPos, endPos):\n",
    "    if np.linalg.norm(currentPos-startPos) < np.linalg.norm(endPos-startPos):\n",
    "        return True\n",
    "    else:\n",
    "        return False"
   ]
  },
  {
   "cell_type": "code",
   "execution_count": null,
   "metadata": {},
   "outputs": [],
   "source": [
    "path_out = momentum_sketch(simplified_contours[0])\n",
    "path_out.save()"
   ]
  },
  {
   "cell_type": "code",
   "execution_count": null,
   "metadata": {},
   "outputs": [],
   "source": []
  }
 ],
 "metadata": {
  "kernelspec": {
   "display_name": "Python 3",
   "language": "python",
   "name": "python3"
  },
  "language_info": {
   "codemirror_mode": {
    "name": "ipython",
    "version": 3
   },
   "file_extension": ".py",
   "mimetype": "text/x-python",
   "name": "python",
   "nbconvert_exporter": "python",
   "pygments_lexer": "ipython3",
   "version": "3.6.5"
  }
 },
 "nbformat": 4,
 "nbformat_minor": 2
}

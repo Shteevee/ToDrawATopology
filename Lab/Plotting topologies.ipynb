{
 "cells": [
  {
   "cell_type": "code",
   "execution_count": null,
   "metadata": {},
   "outputs": [],
   "source": [
    "import numpy as np\n",
    "import pylab as plt\n",
    "from skimage import io, filters, measure, feature, exposure, morphology, util\n",
    "from scipy import ndimage\n",
    "from scipy.ndimage import rotate\n",
    "import os\n",
    "import random\n",
    "import inspect\n",
    "%matplotlib inline"
   ]
  },
  {
   "cell_type": "code",
   "execution_count": null,
   "metadata": {},
   "outputs": [],
   "source": [
    "toDraw = 'MobiusAlpha/'\n",
    "ao_monkey = io.imread(toDraw + 'AO.png')\n",
    "uv_monkey = io.imread(toDraw + 'UV.png')\n",
    "normal_monkey = io.imread(toDraw + 'Normal.png')\n",
    "original_monkey = io.imread(toDraw + 'Original.png')\n",
    "\n",
    "fig=plt.figure(figsize=(20, 20))\n",
    "\n",
    "fig.add_subplot(2, 2, 1)\n",
    "plt.imshow(ao_monkey)\n",
    "fig.add_subplot(2, 2, 2)\n",
    "plt.imshow(uv_monkey)\n",
    "fig.add_subplot(2, 2, 3)\n",
    "plt.imshow(normal_monkey)\n",
    "fig.add_subplot(2, 2, 4)\n",
    "plt.imshow(original_monkey)\n",
    "fig.tight_layout()"
   ]
  },
  {
   "cell_type": "code",
   "execution_count": null,
   "metadata": {},
   "outputs": [],
   "source": [
    "edge_monkey = filters.sobel(ao_monkey[:,:,0])\n",
    "edge_monkey = np.where(edge_monkey>0, 256, 0)\n",
    "print(edge_monkey)\n",
    "edge_monkey = ndimage.gaussian_filter(edge_monkey, sigma=0.6)\n",
    "plt.figure(figsize=(20,20))\n",
    "thinned_image = morphology.thin(np.where(edge_monkey<0.1, 0, 1))\n",
    "thinned_image = np.where(thinned_image<0.1, 0, 1)\n",
    "plt.imshow(thinned_image, cmap = plt.cm.Greys)"
   ]
  },
  {
   "cell_type": "code",
   "execution_count": null,
   "metadata": {},
   "outputs": [],
   "source": [
    "new_edge_monkey =np.rot90(edge_monkey, k=-1)\n",
    "contours = measure.find_contours(new_edge_monkey, 0.66, fully_connected=\"high\")\n",
    "simplified_contours = [measure.approximate_polygon(c, tolerance=0) for c in contours]\n",
    "print(len(simplified_contours))\n",
    "plt.figure(figsize=(6,6))\n",
    "for n, contour in enumerate(simplified_contours):\n",
    "    plt.plot(contour[:, 0], contour[:, 1], linewidth=1, color=\"#\"+''.join([random.choice('0123456789ABCDEF') for j in range(6)]))"
   ]
  },
  {
   "cell_type": "code",
   "execution_count": null,
   "metadata": {},
   "outputs": [],
   "source": [
    "histogram = exposure.histogram(original_monkey[:,:,0])\n",
    "plt.figure()\n",
    "plt.hist(histogram[0], histogram[1])"
   ]
  },
  {
   "cell_type": "code",
   "execution_count": null,
   "metadata": {},
   "outputs": [],
   "source": [
    "original_monkey_shade = morphology.erosion(np.copy(original_monkey)[:,:,0] - edge_monkey)\n",
    "shade_monkey = np.where(original_monkey_shade < 24, 256, 0)\n",
    "print(np.where(original_monkey_shade < 24))\n",
    "plt.figure(figsize=(20,20))\n",
    "plt.imshow(original_monkey[:,:,1]-np.zeros_like(edge_monkey), cmap=plt.cm.Greys)"
   ]
  },
  {
   "cell_type": "code",
   "execution_count": null,
   "metadata": {},
   "outputs": [],
   "source": [
    "vector_shade_monkey = np.rot90(shade_monkey, k=-1)\n",
    "contours = measure.find_contours(vector_shade_monkey, 0.2, fully_connected=\"high\")\n",
    "simplified_contours = [measure.approximate_polygon(c, tolerance=0) for c in contours]\n",
    "plt.figure(figsize=(6,6))\n",
    "plt.axis(\"off\")\n",
    "for n, contour in enumerate(simplified_contours):\n",
    "    plt.plot(contour[:, 0], contour[:, 1], linewidth=0.5, color=\"black\")\n",
    "plt.savefig(\"suzzane.svg\")"
   ]
  },
  {
   "cell_type": "code",
   "execution_count": null,
   "metadata": {},
   "outputs": [],
   "source": [
    "original_shade = morphology.erosion(np.copy(original_monkey)[:,:,0] - edge_monkey)\n",
    "shaded_area = np.where(original_shade >= 60)\n",
    "shade = np.where(original_shade < 60, 0, 256)\n",
    "ao_image = np.where(ao_monkey[:,:,0]>0)\n",
    "output = ao_monkey[:,:,0]-shade\n",
    "output_coords = np.where(output>0)\n",
    "output = np.where(output > 0, 256, 0)\n",
    "mask = np.zeros_like(edge_monkey)\n",
    "mask = util.random_noise(output, mode='gaussian', mean=0.01)\n",
    "mask = np.where(output > 0, 256, 0)\n",
    "output = output+mask-256\n",
    "output = np.where(output > 0, 256, 0)\n",
    "print(output_coords)\n",
    "plt.imshow(output, cmap=plt.cm.Greys, vmax = 256, vmin = 0) "
   ]
  },
  {
   "cell_type": "code",
   "execution_count": null,
   "metadata": {},
   "outputs": [],
   "source": [
    "thin = morphology.thin(output)\n",
    "thin = np.where(thin>0, 1, 0)\n",
    "thin_coords = np.asarray(np.where(thin==1)).T\n",
    "print(thin_coords)\n",
    "plt.imshow(thin, cmap=plt.cm.Greys) "
   ]
  },
  {
   "cell_type": "code",
   "execution_count": null,
   "metadata": {},
   "outputs": [],
   "source": [
    "original_shade = morphology.erosion(np.copy(original_monkey)[:,:,0] - edge_monkey)\n",
    "shaded_area = np.where(original_shade >= 24)\n",
    "original_shade[::-8] = 256\n",
    "shade = np.where(original_shade < 24, 0, 256)\n",
    "shade[shaded_area] = 0\n",
    "plt.imshow(shade, cmap=plt.cm.Greys, vmax = 256, vmin = 0) "
   ]
  },
  {
   "cell_type": "code",
   "execution_count": null,
   "metadata": {},
   "outputs": [],
   "source": [
    "#fd, hog_image = feature.hog(original_monkey[:,:,1], block_norm='L2-Hys', visualise=True)\n",
    "#hog_image = exposure.rescale_intensity(hog_image)\n",
    "object_coords = np.where(uv_monkey[:,:,1]!=0)\n",
    "print(object_coords)\n",
    "band_coords = np.where(uv_monkey[:,:,1]==99, 256, 0)\n",
    "print(band_coords)\n",
    "print(uv_monkey[:,:,1][166,474])\n",
    "plt.imshow(band_coords)"
   ]
  },
  {
   "cell_type": "code",
   "execution_count": null,
   "metadata": {},
   "outputs": [],
   "source": [
    "canvas = np.zeros_like(original_monkey[:,:,0])\n",
    "canvas = util.random_noise(canvas, mode='gaussian', mean=0.01)\n",
    "canvas = np.where(canvas > 0.1, 1, 0)\n",
    "print(canvas)\n",
    "plt.imshow(canvas, cmap=plt.cm.Greys)"
   ]
  },
  {
   "cell_type": "code",
   "execution_count": null,
   "metadata": {},
   "outputs": [],
   "source": [
    "fig = plt.figure(figsize=(10,10))\n",
    "u = fig.add_subplot(1,2,1)\n",
    "u.set_title(\"U Map\")\n",
    "u_map = np.cos((uv_monkey[:,:,0]*2*np.pi)/200)\n",
    "print(np.max(u_map), np.min(u_map))\n",
    "plt.imshow(u_map)\n",
    "v = fig.add_subplot(1,2,2)\n",
    "v.set_title(\"V Map\")\n",
    "plt.imshow(uv_monkey[:,:,1])"
   ]
  },
  {
   "cell_type": "code",
   "execution_count": null,
   "metadata": {},
   "outputs": [],
   "source": [
    "v_map = uv_monkey[:,:,1]\n",
    "u_map = uv_monkey[:,:,0]\n",
    "u_grad_axis1 = np.gradient(np.gradient(u_map, edge_order = 2, axis=1))\n",
    "u_grad_axis1 = u_grad_axis1/np.max(u_grad_axis1)\n",
    "u_grad_axis1 = np.sin(u_grad_axis1*2*np.pi)\n",
    "fig = plt.figure(figsize=(40,40))\n",
    "#fig.add_subplot(3,1,1)\n",
    "#plt.imshow(u_grad_axis1)\n",
    "\n",
    "u_grad_axis0 = np.gradient(u_map, edge_order = 2, axis=0)\n",
    "u_grad_axis0 = u_grad_axis0/np.max(u_grad_axis0)\n",
    "u_grad_axis0 = np.cos(u_grad_axis0*2*np.pi)\n",
    "#fig.add_subplot(3,1,2)\n",
    "#plt.imshow(u_grad_axis0)\n",
    "\n",
    "fig.add_subplot(3,1,3)\n",
    "final_once = u_grad_axis1+u_grad_axis0\n",
    "final_once = np.where(final_once>0, 256, 0)\n",
    "#plt.imshow(final_once)\n",
    "print(u_grad_axis1.dtype)\n",
    "v_grad_axis1 = np.gradient(v_map, edge_order=2, axis=1)\n",
    "v_grad_axis1 = v_grad_axis1/np.max(v_grad_axis1)\n",
    "fixed1 = np.zeros_like(u_grad_axis0)\n",
    "fixed1[object_coords] = u_grad_axis0[object_coords]\n",
    "\n",
    "fixed0 = np.zeros_like(u_grad_axis0)\n",
    "fixed0[object_coords] = u_grad_axis0[object_coords]\n",
    "\n",
    "skip = (slice(None, None, 5), slice(None, None, 5))\n",
    "plt.quiver(np.flip(np.rot90(fixed1[skip]), axis=0), np.flip(np.rot90(fixed0[skip]), axis=0), units='width', pivot='mid')\n",
    "plt.savefig(\"fig.svg\")"
   ]
  },
  {
   "cell_type": "code",
   "execution_count": null,
   "metadata": {},
   "outputs": [],
   "source": [
    "def clean_paths(paths):\n",
    "    cleaned_paths = list()\n",
    "    for path in paths:\n",
    "        if len(cleaned_paths) == 0 or not np.array_equal(cleaned_paths[-1].vertices, path.vertices):\n",
    "            if not np.allclose(path.vertices[0], path.vertices[1]):\n",
    "                cleaned_paths.append(path)\n",
    "    \n",
    "    return cleaned_paths\n",
    "\n",
    "def stitch_paths(paths):\n",
    "    stitched_paths = list()\n",
    "    for path in paths:\n",
    "        if len(stitched_paths) == 0:\n",
    "            stitched_paths.append(path.vertices)\n",
    "        \n",
    "        if np.allclose(stitched_paths[-1][-1], path.vertices[0]):\n",
    "            joined = np.concatenate((stitched_paths[-1], np.array([path.vertices[1]])), axis=0)\n",
    "            stitched_paths[-1] = joined\n",
    "        else:\n",
    "            stitched_paths.append(path.vertices)\n",
    "            \n",
    "    return stitched_paths\n",
    "\n",
    "def makeContinuous(component):\n",
    "    component = component/np.max(component)\n",
    "    component = np.sin(component*2*np.pi)\n",
    "    \n",
    "    return component"
   ]
  },
  {
   "cell_type": "code",
   "execution_count": null,
   "metadata": {},
   "outputs": [],
   "source": [
    "# grid = np.zeros_like(uv_monkey[:,:,0])\n",
    "# grid[::2] = 1\n",
    "# grid[:,::2] = 1\n",
    "# plt.imshow(grid)\n",
    "\n",
    "# h,w = grid.shape\n",
    "\n",
    "# grid_points = np.array(np.where(grid == 1)).T\n",
    "# grid_points[(grid_points[:,0] == 0), 0] += 1\n",
    "# grid_points[(grid_points[:,1] == 0), 1] += 1\n",
    "# grid_points[(grid_points[:,0] == h), 0] -= 1\n",
    "# grid_points[(grid_points[:,1] == w), 1] -= 1\n",
    "\n",
    "# print(np.where(grid_points[:,1] == h))\n",
    "# print(grid_points[:,0], np.any(grid_points[:,0] == 0))\n",
    "\n",
    "h, w = uv_monkey[:,:,0].shape\n",
    "grid_points = np.mgrid[1:w-1:1, 1:h-1:1].reshape(2,-1).T\n",
    "\n",
    "print(grid_points)"
   ]
  },
  {
   "cell_type": "code",
   "execution_count": null,
   "metadata": {},
   "outputs": [],
   "source": [
    "uv_grad_U = np.gradient(makeContinuous(np.sqrt(uv_monkey[:,:,0].astype(np.float64))))\n",
    "uv_grad_V = np.gradient(uv_monkey[:,:,1])\n",
    "\n",
    "uv_grad_UX = uv_grad_U[0]\n",
    "uv_grad_UY = uv_grad_U[1]\n",
    "\n",
    "w, h = uv_grad_UX.shape\n",
    "y, x = np.mgrid[0:w, 0:h]\n",
    "\n",
    "fig, ax = plt.subplots()\n",
    "im = ax.imshow(uv_monkey, cmap=plt.cm.Greys)\n",
    "plt.axis('off')\n",
    "\n",
    "stream = plt.streamplot(x, y,\n",
    "                        uv_grad_UX, uv_grad_UY, \n",
    "                        density=25, linewidth=0.5, \n",
    "                        arrowsize=0.00000000001, integration_direction='both',\n",
    "                        color='black', start_points=grid_points)\n",
    "\n",
    "fig.canvas.draw()\n",
    "plt.savefig('streamplot.svg')\n",
    "\n",
    "plot = np.array(fig.canvas.renderer._renderer)\n",
    "lines = stream.lines.get_paths()\n",
    "print(len(lines))\n",
    "cleaned_lines = clean_paths(lines)\n",
    "print(len(cleaned_lines))\n",
    "stitched_lines = stitch_paths(cleaned_lines)\n",
    "print(len(stitched_lines))"
   ]
  },
  {
   "cell_type": "code",
   "execution_count": null,
   "metadata": {},
   "outputs": [],
   "source": [
    "uv_grad_U = np.gradient(makeContinuous(uv_monkey[:,:,0].astype(np.float64)))\n",
    "uv_grad_V = np.gradient(uv_monkey[:,:,1])\n",
    "\n",
    "uv_grad_UX = uv_grad_U[0]\n",
    "uv_grad_UY = uv_grad_U[1]\n",
    "\n",
    "fig, ax = plt.subplots()\n",
    "im = ax.imshow(uv_monkey, cmap=plt.cm.Greys)\n",
    "\n",
    "plt.axis('off')\n",
    "\n",
    "skip = (slice(None, None, 10), slice(None, None, 10))\n",
    "\n",
    "quiver = plt.quiver(x[skip], y[skip], uv_grad_UX[skip], uv_grad_UY[skip], units='width', pivot='mid', headaxislength=0, scale=20, linewidth=0.1, headlength=0, rasterized = False)\n",
    "\n",
    "fig.canvas.draw()\n",
    "plt.savefig('quiverplot.svg')\n",
    "\n",
    "lines = quiver.get_paths()\n",
    "print(len(lines))\n",
    "cleaned_lines = clean_paths(lines)\n",
    "stitched_lines = stitch_paths(cleaned_lines)\n",
    "print(len(stitched_lines))\n",
    "print(stitched_lines[:5])"
   ]
  },
  {
   "cell_type": "code",
   "execution_count": null,
   "metadata": {},
   "outputs": [],
   "source": [
    "print(stitched_lines)"
   ]
  },
  {
   "cell_type": "code",
   "execution_count": null,
   "metadata": {},
   "outputs": [],
   "source": []
  },
  {
   "cell_type": "code",
   "execution_count": null,
   "metadata": {},
   "outputs": [],
   "source": []
  }
 ],
 "metadata": {
  "kernelspec": {
   "display_name": "Python 3",
   "language": "python",
   "name": "python3"
  },
  "language_info": {
   "codemirror_mode": {
    "name": "ipython",
    "version": 3
   },
   "file_extension": ".py",
   "mimetype": "text/x-python",
   "name": "python",
   "nbconvert_exporter": "python",
   "pygments_lexer": "ipython3",
   "version": "3.6.5"
  }
 },
 "nbformat": 4,
 "nbformat_minor": 2
}

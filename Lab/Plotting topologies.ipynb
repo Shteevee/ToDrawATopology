{
 "cells": [
  {
   "cell_type": "code",
   "execution_count": null,
   "metadata": {},
   "outputs": [],
   "source": [
    "import numpy as np\n",
    "import pylab as plt\n",
    "#import drawSvg as draw\n",
    "from skimage import io, filters, measure, feature\n",
    "from scipy.ndimage import rotate\n",
    "import os\n",
    "%matplotlib inline"
   ]
  },
  {
   "cell_type": "code",
   "execution_count": null,
   "metadata": {},
   "outputs": [],
   "source": [
    "ao_monkey = io.imread('TestMonkey\\\\AO.png')\n",
    "uv_monkey = io.imread('TestMonkey\\\\UV.png')\n",
    "normal_monkey = io.imread('TestMonkey\\\\Normal.png')\n",
    "original_monkey = io.imread('TestMonkey\\\\Original.png')\n",
    "\n",
    "fig=plt.figure(figsize=(20, 20))\n",
    "\n",
    "fig.add_subplot(2, 2, 1)\n",
    "plt.imshow(ao_monkey)\n",
    "fig.add_subplot(2, 2, 2)\n",
    "plt.imshow(uv_monkey)\n",
    "fig.add_subplot(2, 2, 3)\n",
    "plt.imshow(normal_monkey)\n",
    "fig.add_subplot(2, 2, 4)\n",
    "plt.imshow(original_monkey)\n",
    "fig.tight_layout()"
   ]
  },
  {
   "cell_type": "code",
   "execution_count": null,
   "metadata": {},
   "outputs": [],
   "source": [
    "edge_monkey = filters.sobel(normal_monkey[:,:,0]) + filters.sobel(ao_monkey[:,:,0])\n",
    "print(edge_monkey.shape)\n",
    "plt.figure(figsize=(20,20))\n",
    "plt.imshow(edge_monkey, cmap = plt.cm.Greys)"
   ]
  },
  {
   "cell_type": "code",
   "execution_count": null,
   "metadata": {},
   "outputs": [],
   "source": [
    "new_edge_monkey =np.rot90(edge_monkey, k=-1)\n",
    "contours = measure.find_contours(new_edge_monkey, 0.22, fully_connected=\"high\")\n",
    "simplified_contours = [measure.approximate_polygon(c, tolerance=0) for c in contours]\n",
    "plt.figure(figsize=(6,6))\n",
    "for n, contour in enumerate(simplified_contours):\n",
    "    plt.plot(contour[:, 0], contour[:, 1], linewidth=2)"
   ]
  },
  {
   "cell_type": "code",
   "execution_count": null,
   "metadata": {},
   "outputs": [],
   "source": []
  },
  {
   "cell_type": "code",
   "execution_count": null,
   "metadata": {},
   "outputs": [],
   "source": []
  }
 ],
 "metadata": {
  "kernelspec": {
   "display_name": "Python 3",
   "language": "python",
   "name": "python3"
  },
  "language_info": {
   "codemirror_mode": {
    "name": "ipython",
    "version": 3
   },
   "file_extension": ".py",
   "mimetype": "text/x-python",
   "name": "python",
   "nbconvert_exporter": "python",
   "pygments_lexer": "ipython3",
   "version": "3.6.5"
  }
 },
 "nbformat": 4,
 "nbformat_minor": 2
}

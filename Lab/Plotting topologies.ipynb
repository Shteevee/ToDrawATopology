{
 "cells": [
  {
   "cell_type": "code",
   "execution_count": null,
   "metadata": {},
   "outputs": [],
   "source": [
    "import numpy as np\n",
    "import pylab as plt\n",
    "import drawSvg as draw\n",
    "from skimage import io, filters, measure, feature, exposure, morphology\n",
    "from scipy import ndimage\n",
    "from scipy.ndimage import rotate\n",
    "import os\n",
    "import random\n",
    "import inspect\n",
    "%matplotlib inline"
   ]
  },
  {
   "cell_type": "code",
   "execution_count": null,
   "metadata": {},
   "outputs": [],
   "source": [
    "toDraw = 'MobiusAlpha/'\n",
    "ao_monkey = io.imread(toDraw + 'AO.png')\n",
    "uv_monkey = io.imread(toDraw + 'UV.png')\n",
    "normal_monkey = io.imread(toDraw + 'Normal.png')\n",
    "original_monkey = io.imread(toDraw + 'Original.png')\n",
    "\n",
    "fig=plt.figure(figsize=(20, 20))\n",
    "\n",
    "fig.add_subplot(2, 2, 1)\n",
    "plt.imshow(ao_monkey)\n",
    "fig.add_subplot(2, 2, 2)\n",
    "plt.imshow(uv_monkey)\n",
    "fig.add_subplot(2, 2, 3)\n",
    "plt.imshow(normal_monkey)\n",
    "fig.add_subplot(2, 2, 4)\n",
    "plt.imshow(original_monkey)\n",
    "fig.tight_layout()"
   ]
  },
  {
   "cell_type": "code",
   "execution_count": null,
   "metadata": {},
   "outputs": [],
   "source": [
    "edge_monkey = filters.sobel(normal_monkey[:,:,0]) + filters.sobel(ao_monkey[:,:,0])\n",
    "#print(edge_monkey)\n",
    "#edge_monkey = ndimage.gaussian_filter(edge_monkey, sigma=0.6)\n",
    "plt.figure(figsize=(20,20))\n",
    "plt.imshow((edge_monkey), cmap = plt.cm.Greys)"
   ]
  },
  {
   "cell_type": "code",
   "execution_count": null,
   "metadata": {},
   "outputs": [],
   "source": [
    "new_edge_monkey =np.rot90(edge_monkey, k=-1)\n",
    "contours = measure.find_contours(new_edge_monkey, 0.66, fully_connected=\"high\")\n",
    "simplified_contours = [measure.approximate_polygon(c, tolerance=0) for c in contours]\n",
    "print(len(simplified_contours))\n",
    "plt.figure(figsize=(6,6))\n",
    "for n, contour in enumerate(simplified_contours):\n",
    "    plt.plot(contour[:, 0], contour[:, 1], linewidth=1, color=\"#\"+''.join([random.choice('0123456789ABCDEF') for j in range(6)]))"
   ]
  },
  {
   "cell_type": "code",
   "execution_count": null,
   "metadata": {},
   "outputs": [],
   "source": [
    "histogram = exposure.histogram(original_monkey[:,:,0])\n",
    "plt.figure()\n",
    "plt.hist(histogram[0], histogram[1])"
   ]
  },
  {
   "cell_type": "code",
   "execution_count": null,
   "metadata": {},
   "outputs": [],
   "source": [
    "original_monkey_shade = morphology.erosion(np.copy(original_monkey)[:,:,0] - edge_monkey)\n",
    "shade_monkey = np.where(original_monkey_shade < 24, 256, 0)\n",
    "print(np.where(original_monkey_shade < 24))\n",
    "plt.figure(figsize=(20,20))\n",
    "plt.imshow(original_monkey[:,:,1]-np.zeros_like(edge_monkey), cmap=plt.cm.Greys)"
   ]
  },
  {
   "cell_type": "code",
   "execution_count": null,
   "metadata": {},
   "outputs": [],
   "source": [
    "vector_shade_monkey = np.rot90(shade_monkey, k=-1)\n",
    "contours = measure.find_contours(vector_shade_monkey, 0.2, fully_connected=\"high\")\n",
    "simplified_contours = [measure.approximate_polygon(c, tolerance=0) for c in contours]\n",
    "plt.figure(figsize=(6,6))\n",
    "plt.axis(\"off\")\n",
    "for n, contour in enumerate(simplified_contours):\n",
    "    plt.plot(contour[:, 0], contour[:, 1], linewidth=0.5, color=\"black\")\n",
    "plt.savefig(\"suzzane.svg\")"
   ]
  },
  {
   "cell_type": "code",
   "execution_count": null,
   "metadata": {},
   "outputs": [],
   "source": [
    "original_shade = morphology.erosion(np.copy(original_monkey)[:,:,0] - edge_monkey)\n",
    "shaded_area = np.where(original_shade >= 60)\n",
    "shade = np.where(original_shade < 60, 0, 256)\n",
    "ao_image = np.where(ao_monkey[:,:,0]>0)\n",
    "output = ao_monkey[:,:,0]-shade\n",
    "output_coords = np.where(output>0)\n",
    "output = np.where(output > 0, 256, 0)\n",
    "mask = np.zeros_like(edge_monkey)\n",
    "changed_row = mask[0]\n",
    "changed_row[::4] = 256\n",
    "for i in range(0, len(mask)):\n",
    "    mask[i] = changed_row\n",
    "    changed_row = np.roll(changed_row, -1)\n",
    "output = output+mask-256\n",
    "output = np.where(output > 0, 256, 0)\n",
    "print(output_coords)\n",
    "plt.imshow(output, cmap=plt.cm.Greys, vmax = 256, vmin = 0) "
   ]
  },
  {
   "cell_type": "code",
   "execution_count": null,
   "metadata": {},
   "outputs": [],
   "source": [
    "original_shade = morphology.erosion(np.copy(original_monkey)[:,:,0] - edge_monkey)\n",
    "shaded_area = np.where(original_shade >= 24)\n",
    "original_shade[::-8] = 256\n",
    "shade = np.where(original_shade < 24, 0, 256)\n",
    "shade[shaded_area] = 0\n",
    "plt.imshow(shade, cmap=plt.cm.Greys, vmax = 256, vmin = 0) "
   ]
  },
  {
   "cell_type": "code",
   "execution_count": null,
   "metadata": {},
   "outputs": [],
   "source": [
    "#fd, hog_image = feature.hog(original_monkey[:,:,1], block_norm='L2-Hys', visualise=True)\n",
    "#hog_image = exposure.rescale_intensity(hog_image)\n",
    "object_coords = np.where(uv_monkey[:,:,1]!=0)\n",
    "print(object_coords)\n",
    "band_coords = np.where(uv_monkey[:,:,1]==99, 256, 0)\n",
    "print(band_coords)\n",
    "print(uv_monkey[:,:,1][166,474])\n",
    "plt.imshow(band_coords)"
   ]
  },
  {
   "cell_type": "code",
   "execution_count": null,
   "metadata": {},
   "outputs": [],
   "source": []
  },
  {
   "cell_type": "code",
   "execution_count": null,
   "metadata": {},
   "outputs": [],
   "source": []
  }
 ],
 "metadata": {
  "kernelspec": {
   "display_name": "Python 3",
   "language": "python",
   "name": "python3"
  },
  "language_info": {
   "codemirror_mode": {
    "name": "ipython",
    "version": 3
   },
   "file_extension": ".py",
   "mimetype": "text/x-python",
   "name": "python",
   "nbconvert_exporter": "python",
   "pygments_lexer": "ipython3",
   "version": "3.6.5"
  }
 },
 "nbformat": 4,
 "nbformat_minor": 2
}

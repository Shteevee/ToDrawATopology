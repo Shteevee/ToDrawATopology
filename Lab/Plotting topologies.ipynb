{
 "cells": [
  {
   "cell_type": "code",
   "execution_count": null,
   "metadata": {},
   "outputs": [],
   "source": [
    "import numpy as np\n",
    "import pylab as plt\n",
    "import drawSvg as draw\n",
    "from skimage import io, filters, measure, feature, exposure, morphology\n",
    "from scipy import ndimage\n",
    "from scipy.ndimage import rotate\n",
    "import os\n",
    "%matplotlib inline"
   ]
  },
  {
   "cell_type": "code",
   "execution_count": null,
   "metadata": {},
   "outputs": [],
   "source": [
    "ao_monkey = io.imread('TestMonkey/AO.png')\n",
    "uv_monkey = io.imread('TestMonkey/UV.png')\n",
    "normal_monkey = io.imread('TestMonkey/Normal.png')\n",
    "original_monkey = io.imread('TestMonkey/Original.png')\n",
    "\n",
    "fig=plt.figure(figsize=(20, 20))\n",
    "\n",
    "fig.add_subplot(2, 2, 1)\n",
    "plt.imshow(ao_monkey)\n",
    "fig.add_subplot(2, 2, 2)\n",
    "plt.imshow(uv_monkey)\n",
    "fig.add_subplot(2, 2, 3)\n",
    "plt.imshow(normal_monkey)\n",
    "fig.add_subplot(2, 2, 4)\n",
    "plt.imshow(original_monkey)\n",
    "fig.tight_layout()"
   ]
  },
  {
   "cell_type": "code",
   "execution_count": null,
   "metadata": {},
   "outputs": [],
   "source": [
    "edge_monkey = filters.sobel(normal_monkey[:,:,0]) + filters.sobel(ao_monkey[:,:,0])\n",
    "print(edge_monkey)\n",
    "#edge_monkey = ndimage.gaussian_filter(edge_monkey, sigma=0.5)\n",
    "plt.figure(figsize=(20,20))\n",
    "plt.imshow((edge_monkey), cmap = plt.cm.Greys)"
   ]
  },
  {
   "cell_type": "code",
   "execution_count": null,
   "metadata": {},
   "outputs": [],
   "source": [
    "new_edge_monkey =np.rot90(edge_monkey, k=-1)\n",
    "contours = measure.find_contours(new_edge_monkey, 0.3, fully_connected=\"high\")\n",
    "simplified_contours = [measure.approximate_polygon(c, tolerance=0) for c in contours]\n",
    "plt.figure(figsize=(6,6))\n",
    "for n, contour in enumerate(simplified_contours):\n",
    "    plt.plot(contour[:, 0], contour[:, 1], linewidth=2, color=\"black\")"
   ]
  },
  {
   "cell_type": "code",
   "execution_count": null,
   "metadata": {},
   "outputs": [],
   "source": [
    "histogram = exposure.histogram(original_monkey[:,:,0])\n",
    "plt.figure()\n",
    "plt.hist(histogram[0], histogram[1])"
   ]
  },
  {
   "cell_type": "code",
   "execution_count": null,
   "metadata": {},
   "outputs": [],
   "source": [
    "original_monkey_shade = np.copy(original_monkey)\n",
    "original_monkey_shade[original_monkey_shade[:,:,0]>25] = 0\n",
    "original_monkey_shade[::3] = 1\n",
    "original_monkey_shade[:, ::3] = 1\n",
    "shade_monkey = original_monkey_shade[:,:,3]/256 + edge_monkey\n",
    "plt.figure(figsize=(20,20))\n",
    "plt.imshow(shade_monkey, cmap = plt.cm.Greys)"
   ]
  },
  {
   "cell_type": "code",
   "execution_count": null,
   "metadata": {},
   "outputs": [],
   "source": [
    "vector_shade_monkey = np.rot90(shade_monkey, k=-1)\n",
    "contours = measure.find_contours(vector_shade_monkey, 0.2, fully_connected=\"high\")\n",
    "simplified_contours = [measure.approximate_polygon(c, tolerance=0) for c in contours]\n",
    "plt.figure(figsize=(6,6))\n",
    "plt.axis(\"off\")\n",
    "for n, contour in enumerate(simplified_contours):\n",
    "    plt.plot(contour[:, 0], contour[:, 1], linewidth=0.5, color=\"black\")\n",
    "plt.savefig(\"suzzane.svg\")"
   ]
  },
  {
   "cell_type": "code",
   "execution_count": null,
   "metadata": {},
   "outputs": [],
   "source": [
    " "
   ]
  },
  {
   "cell_type": "code",
   "execution_count": null,
   "metadata": {},
   "outputs": [],
   "source": []
  },
  {
   "cell_type": "code",
   "execution_count": null,
   "metadata": {},
   "outputs": [],
   "source": []
  },
  {
   "cell_type": "code",
   "execution_count": null,
   "metadata": {},
   "outputs": [],
   "source": []
  },
  {
   "cell_type": "code",
   "execution_count": null,
   "metadata": {},
   "outputs": [],
   "source": []
  }
 ],
 "metadata": {
  "kernelspec": {
   "display_name": "Python 3",
   "language": "python",
   "name": "python3"
  },
  "language_info": {
   "codemirror_mode": {
    "name": "ipython",
    "version": 3
   },
   "file_extension": ".py",
   "mimetype": "text/x-python",
   "name": "python",
   "nbconvert_exporter": "python",
   "pygments_lexer": "ipython3",
   "version": "3.6.5"
  }
 },
 "nbformat": 4,
 "nbformat_minor": 2
}
